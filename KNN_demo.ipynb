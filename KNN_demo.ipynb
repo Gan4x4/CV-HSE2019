{
  "nbformat": 4,
  "nbformat_minor": 0,
  "metadata": {
    "colab": {
      "name": "CV_knn_demo.ipynb",
      "provenance": [],
      "collapsed_sections": [],
      "include_colab_link": true
    },
    "kernelspec": {
      "name": "python3",
      "display_name": "Python 3"
    }
  },
  "cells": [
    {
      "cell_type": "markdown",
      "metadata": {
        "id": "view-in-github",
        "colab_type": "text"
      },
      "source": [
        "<a href=\"https://colab.research.google.com/github/Gan4x4/CV-HSE2019/blob/master/KNN_demo.ipynb\" target=\"_parent\"><img src=\"https://colab.research.google.com/assets/colab-badge.svg\" alt=\"Open In Colab\"/></a>"
      ]
    },
    {
      "cell_type": "code",
      "metadata": {
        "colab": {
          "base_uri": "https://localhost:8080/"
        },
        "id": "zyxIqkkz-EjQ",
        "outputId": "c0484c5f-c99a-4777-ccc4-53d1ac7014e7"
      },
      "source": [
        "# Download and unpack archive with CIFAR10 dataset to disk  from official site: https://www.cs.toronto.edu/~kriz/cifar.html\n",
        "\n",
        "!wget https://www.cs.toronto.edu/~kriz/cifar-10-python.tar.gz\n",
        "!tar -xzf cifar-10-python.tar.gz\n",
        "!ls -l"
      ],
      "execution_count": 1,
      "outputs": [
        {
          "output_type": "stream",
          "text": [
            "--2021-02-07 16:28:58--  https://www.cs.toronto.edu/~kriz/cifar-10-python.tar.gz\n",
            "Resolving www.cs.toronto.edu (www.cs.toronto.edu)... 128.100.3.30\n",
            "Connecting to www.cs.toronto.edu (www.cs.toronto.edu)|128.100.3.30|:443... connected.\n",
            "HTTP request sent, awaiting response... 200 OK\n",
            "Length: 170498071 (163M) [application/x-gzip]\n",
            "Saving to: ‘cifar-10-python.tar.gz’\n",
            "\n",
            "cifar-10-python.tar 100%[===================>] 162.60M  31.2MB/s    in 5.8s    \n",
            "\n",
            "2021-02-07 16:29:05 (27.9 MB/s) - ‘cifar-10-python.tar.gz’ saved [170498071/170498071]\n",
            "\n",
            "total 166516\n",
            "drwxr-xr-x 2 2156 1103      4096 Jun  4  2009 cifar-10-batches-py\n",
            "-rw-r--r-- 1 root root 170498071 Jun  4  2009 cifar-10-python.tar.gz\n",
            "drwxr-xr-x 1 root root      4096 Feb  4 15:26 sample_data\n"
          ],
          "name": "stdout"
        }
      ]
    },
    {
      "cell_type": "code",
      "metadata": {
        "id": "CIO-FBEb_H-S"
      },
      "source": [
        "# Loading CIFAR10 data using code from official site: https://www.cs.toronto.edu/~kriz/cifar.html\n",
        "import numpy as np\n",
        "import random\n",
        "\n",
        "def unpickle(file,encoding = 'bytes'):\n",
        "    import pickle\n",
        "    with open(file, 'rb') as fo:\n",
        "        dict = pickle.load(fo, encoding=encoding)\n",
        "    return dict\n",
        "\n",
        "def load_train_data():\n",
        "  x = np.zeros((0,3072),dtype=int) # To avoid overflow \n",
        "  y = np.array([],dtype=int)\n",
        "  for i in range(1,6):\n",
        "    raw = unpickle(f\"/content/cifar-10-batches-py/data_batch_{i}\")\n",
        "    x = np.append(x,np.array(raw[b'data'],dtype=int),axis=0)\n",
        "    y = np.append(y,np.array(raw[b'labels'],dtype=int),axis=0)\n",
        "  return x,y\n",
        "\n",
        "x_train, y_train = load_train_data()\n",
        "\n",
        "test = unpickle(\"/content/cifar-10-batches-py/test_batch\")\n",
        "x_test = np.array(test[b'data'])\n",
        "y_test = np.array(test[b'labels'])\n",
        "\n",
        "# Load label names. For for convenience only.\n",
        "meta = unpickle(\"/content/cifar-10-batches-py/batches.meta\",'utf-8')\n",
        "labels= meta['label_names']\n",
        "\n"
      ],
      "execution_count": 3,
      "outputs": []
    },
    {
      "cell_type": "code",
      "metadata": {
        "id": "WaVdJ21lsStJ"
      },
      "source": [
        "class NearestNeighbor:\n",
        "  def __init__(self):\n",
        "    pass\n",
        "\n",
        "  def train(self,x,y):\n",
        "    self.train_data = x\n",
        "    self.train_labels = y\n",
        "  \n",
        "  def predict(self,x):\n",
        "    # To avoid overflow data must be int, not a byte!\n",
        "    distances = np.sum(np.abs(self.train_data - x),axis = 1) # Axis 0 it's a row num in image list \n",
        "    return self.train_labels[np.argmin(distances)]\n"
      ],
      "execution_count": 5,
      "outputs": []
    },
    {
      "cell_type": "code",
      "metadata": {
        "id": "kNW4s9c84BHn"
      },
      "source": [
        "# Function to check model accuracy\n",
        "def validate(model,x_test,y_test):\n",
        "  correct = 0\n",
        "  for i, sample in enumerate(x_test):\n",
        "    index = model.predict(sample)\n",
        "    correct += 1 if index == y_test[i] else 0\n",
        "    if i > 0 and i % 100 == 0:\n",
        "      print (\"Accuracy {:.3f}\".format(correct/i))\n",
        "  \n",
        "  return correct/len(x_test)  "
      ],
      "execution_count": 6,
      "outputs": []
    },
    {
      "cell_type": "code",
      "metadata": {
        "id": "bPUxPYdm6dv9",
        "colab": {
          "base_uri": "https://localhost:8080/"
        },
        "outputId": "34ace6d3-e697-40a1-bd6a-f4678990ecf9"
      },
      "source": [
        "# Now test accuracy and speed of model\n",
        "import time\n",
        "\n",
        "nn = NearestNeighbor()\n",
        "nn.train(x_train,y_train)\n",
        "\n",
        "start = time.perf_counter()\n",
        "accuracy = validate(nn,x_test[:100],y_test[:100])   \n",
        "tm = time.perf_counter() - start\n",
        "total = x_test.shape[0]\n",
        "print(\"Accuracy {:.2f} Train {:d} /test {:d} in {:.1f} sec. speed {:.2f} samples per second.\".format(accuracy,len(x_train),total,tm,total/tm,) )"
      ],
      "execution_count": 7,
      "outputs": [
        {
          "output_type": "stream",
          "text": [
            "Accuracy 0.34 Train 50000 /test 10000 in 46.4 sec. speed 215.56 samples per second.\n"
          ],
          "name": "stdout"
        }
      ]
    },
    {
      "cell_type": "code",
      "metadata": {
        "id": "slMPhqSh-kID",
        "colab": {
          "base_uri": "https://localhost:8080/"
        },
        "outputId": "640173d4-c8fa-4cf5-cea3-f7200bc800bc"
      },
      "source": [
        "#  KNN \n",
        "\n",
        "from collections import Counter\n",
        "\n",
        "class KNearestNeighbor(NearestNeighbor):\n",
        "  def __init__(self,k):\n",
        "    self.k = k\n",
        "    pass\n",
        "  \n",
        "  def predict(self,x):\n",
        "    distances = np.sum(np.abs(self.train_data - x),axis = 1) # L1\n",
        "    sorted_distance_indexes = np.argsort(distances)\n",
        "    k_nearest_images = sorted_distance_indexes[:self.k]\n",
        "    most_common = Counter(self.train_labels[k_nearest_images]).most_common()\n",
        "    return most_common[0][0]\n",
        "\n",
        "knn = KNearestNeighbor(11)\n",
        "knn.train( x_train,y_train)\n",
        "validate(knn,x_test[:1000],y_test[:1000])  \n"
      ],
      "execution_count": null,
      "outputs": [
        {
          "output_type": "stream",
          "text": [
            "Accuracy 0.380\n",
            "Accuracy 0.410\n",
            "Accuracy 0.373\n",
            "Accuracy 0.375\n",
            "Accuracy 0.380\n",
            "Accuracy 0.383\n"
          ],
          "name": "stdout"
        }
      ]
    }
  ]
}